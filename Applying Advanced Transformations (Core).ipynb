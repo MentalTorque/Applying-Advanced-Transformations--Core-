{
 "cells": [
  {
   "cell_type": "code",
   "execution_count": 4,
   "metadata": {},
   "outputs": [],
   "source": [
    "## Standard Imports\n",
    "import numpy as np\n",
    "import pandas as pd\n",
    "import matplotlib.pyplot as plt\n",
    "import seaborn as sns\n",
    "## Importing the OS and JSON Modules\n",
    "import os,json"
   ]
  },
  {
   "cell_type": "code",
   "execution_count": 5,
   "metadata": {},
   "outputs": [
    {
     "data": {
      "text/html": [
       "<div>\n",
       "<style scoped>\n",
       "    .dataframe tbody tr th:only-of-type {\n",
       "        vertical-align: middle;\n",
       "    }\n",
       "\n",
       "    .dataframe tbody tr th {\n",
       "        vertical-align: top;\n",
       "    }\n",
       "\n",
       "    .dataframe thead th {\n",
       "        text-align: right;\n",
       "    }\n",
       "</style>\n",
       "<table border=\"1\" class=\"dataframe\">\n",
       "  <thead>\n",
       "    <tr style=\"text-align: right;\">\n",
       "      <th></th>\n",
       "      <th>Hero|Publisher</th>\n",
       "      <th>Gender</th>\n",
       "      <th>Race</th>\n",
       "      <th>Alignment</th>\n",
       "      <th>Hair color</th>\n",
       "      <th>Eye color</th>\n",
       "      <th>Skin color</th>\n",
       "      <th>Measurements</th>\n",
       "    </tr>\n",
       "  </thead>\n",
       "  <tbody>\n",
       "    <tr>\n",
       "      <th>0</th>\n",
       "      <td>A-Bomb|Marvel Comics</td>\n",
       "      <td>Male</td>\n",
       "      <td>Human</td>\n",
       "      <td>good</td>\n",
       "      <td>No Hair</td>\n",
       "      <td>yellow</td>\n",
       "      <td>Unknown</td>\n",
       "      <td>{'Height': '203.0 cm', 'Weight': '441.0 kg'}</td>\n",
       "    </tr>\n",
       "    <tr>\n",
       "      <th>1</th>\n",
       "      <td>Abe Sapien|Dark Horse Comics</td>\n",
       "      <td>Male</td>\n",
       "      <td>Icthyo Sapien</td>\n",
       "      <td>good</td>\n",
       "      <td>No Hair</td>\n",
       "      <td>blue</td>\n",
       "      <td>blue</td>\n",
       "      <td>{'Height': '191.0 cm', 'Weight': '65.0 kg'}</td>\n",
       "    </tr>\n",
       "    <tr>\n",
       "      <th>2</th>\n",
       "      <td>Abin Sur|DC Comics</td>\n",
       "      <td>Male</td>\n",
       "      <td>Ungaran</td>\n",
       "      <td>good</td>\n",
       "      <td>No Hair</td>\n",
       "      <td>blue</td>\n",
       "      <td>red</td>\n",
       "      <td>{'Height': '185.0 cm', 'Weight': '90.0 kg'}</td>\n",
       "    </tr>\n",
       "    <tr>\n",
       "      <th>3</th>\n",
       "      <td>Abomination|Marvel Comics</td>\n",
       "      <td>Male</td>\n",
       "      <td>Human / Radiation</td>\n",
       "      <td>bad</td>\n",
       "      <td>No Hair</td>\n",
       "      <td>green</td>\n",
       "      <td>Unknown</td>\n",
       "      <td>{'Height': '203.0 cm', 'Weight': '441.0 kg'}</td>\n",
       "    </tr>\n",
       "    <tr>\n",
       "      <th>4</th>\n",
       "      <td>Absorbing Man|Marvel Comics</td>\n",
       "      <td>Male</td>\n",
       "      <td>Human</td>\n",
       "      <td>bad</td>\n",
       "      <td>No Hair</td>\n",
       "      <td>blue</td>\n",
       "      <td>Unknown</td>\n",
       "      <td>{'Height': '193.0 cm', 'Weight': '122.0 kg'}</td>\n",
       "    </tr>\n",
       "  </tbody>\n",
       "</table>\n",
       "</div>"
      ],
      "text/plain": [
       "                 Hero|Publisher Gender               Race Alignment  \\\n",
       "0          A-Bomb|Marvel Comics   Male              Human      good   \n",
       "1  Abe Sapien|Dark Horse Comics   Male      Icthyo Sapien      good   \n",
       "2            Abin Sur|DC Comics   Male            Ungaran      good   \n",
       "3     Abomination|Marvel Comics   Male  Human / Radiation       bad   \n",
       "4   Absorbing Man|Marvel Comics   Male              Human       bad   \n",
       "\n",
       "  Hair color Eye color Skin color  \\\n",
       "0    No Hair    yellow    Unknown   \n",
       "1    No Hair      blue       blue   \n",
       "2    No Hair      blue        red   \n",
       "3    No Hair     green    Unknown   \n",
       "4    No Hair      blue    Unknown   \n",
       "\n",
       "                                   Measurements  \n",
       "0  {'Height': '203.0 cm', 'Weight': '441.0 kg'}  \n",
       "1   {'Height': '191.0 cm', 'Weight': '65.0 kg'}  \n",
       "2   {'Height': '185.0 cm', 'Weight': '90.0 kg'}  \n",
       "3  {'Height': '203.0 cm', 'Weight': '441.0 kg'}  \n",
       "4  {'Height': '193.0 cm', 'Weight': '122.0 kg'}  "
      ]
     },
     "execution_count": 5,
     "metadata": {},
     "output_type": "execute_result"
    }
   ],
   "source": [
    "Left = pd.read_csv('superhero_info - superhero_info.csv')\n",
    "Left.head()"
   ]
  },
  {
   "cell_type": "code",
   "execution_count": 6,
   "metadata": {},
   "outputs": [
    {
     "data": {
      "text/html": [
       "<div>\n",
       "<style scoped>\n",
       "    .dataframe tbody tr th:only-of-type {\n",
       "        vertical-align: middle;\n",
       "    }\n",
       "\n",
       "    .dataframe tbody tr th {\n",
       "        vertical-align: top;\n",
       "    }\n",
       "\n",
       "    .dataframe thead th {\n",
       "        text-align: right;\n",
       "    }\n",
       "</style>\n",
       "<table border=\"1\" class=\"dataframe\">\n",
       "  <thead>\n",
       "    <tr style=\"text-align: right;\">\n",
       "      <th></th>\n",
       "      <th>hero_names</th>\n",
       "      <th>Powers</th>\n",
       "    </tr>\n",
       "  </thead>\n",
       "  <tbody>\n",
       "    <tr>\n",
       "      <th>0</th>\n",
       "      <td>3-D Man</td>\n",
       "      <td>Agility,Super Strength,Stamina,Super Speed</td>\n",
       "    </tr>\n",
       "    <tr>\n",
       "      <th>1</th>\n",
       "      <td>A-Bomb</td>\n",
       "      <td>Accelerated Healing,Durability,Longevity,Super...</td>\n",
       "    </tr>\n",
       "    <tr>\n",
       "      <th>2</th>\n",
       "      <td>Abe Sapien</td>\n",
       "      <td>Agility,Accelerated Healing,Cold Resistance,Du...</td>\n",
       "    </tr>\n",
       "    <tr>\n",
       "      <th>3</th>\n",
       "      <td>Abin Sur</td>\n",
       "      <td>Lantern Power Ring</td>\n",
       "    </tr>\n",
       "    <tr>\n",
       "      <th>4</th>\n",
       "      <td>Abomination</td>\n",
       "      <td>Accelerated Healing,Intelligence,Super Strengt...</td>\n",
       "    </tr>\n",
       "  </tbody>\n",
       "</table>\n",
       "</div>"
      ],
      "text/plain": [
       "    hero_names                                             Powers\n",
       "0      3-D Man         Agility,Super Strength,Stamina,Super Speed\n",
       "1       A-Bomb  Accelerated Healing,Durability,Longevity,Super...\n",
       "2   Abe Sapien  Agility,Accelerated Healing,Cold Resistance,Du...\n",
       "3     Abin Sur                                 Lantern Power Ring\n",
       "4  Abomination  Accelerated Healing,Intelligence,Super Strengt..."
      ]
     },
     "execution_count": 6,
     "metadata": {},
     "output_type": "execute_result"
    }
   ],
   "source": [
    "Right= pd.read_csv('superhero_powers - superhero_powers.csv')\n",
    "Right.head()"
   ]
  },
  {
   "cell_type": "markdown",
   "metadata": {},
   "source": [
    "Cleaning Left DF first"
   ]
  },
  {
   "cell_type": "code",
   "execution_count": 7,
   "metadata": {},
   "outputs": [
    {
     "name": "stdout",
     "output_type": "stream",
     "text": [
      "<class 'pandas.core.frame.DataFrame'>\n",
      "RangeIndex: 463 entries, 0 to 462\n",
      "Data columns (total 8 columns):\n",
      " #   Column          Non-Null Count  Dtype \n",
      "---  ------          --------------  ----- \n",
      " 0   Hero|Publisher  463 non-null    object\n",
      " 1   Gender          463 non-null    object\n",
      " 2   Race            463 non-null    object\n",
      " 3   Alignment       463 non-null    object\n",
      " 4   Hair color      463 non-null    object\n",
      " 5   Eye color       463 non-null    object\n",
      " 6   Skin color      463 non-null    object\n",
      " 7   Measurements    463 non-null    object\n",
      "dtypes: object(8)\n",
      "memory usage: 29.1+ KB\n"
     ]
    }
   ],
   "source": [
    "Left.info()"
   ]
  },
  {
   "cell_type": "markdown",
   "metadata": {},
   "source": [
    "Measurments needs to be split height and weight should be 2 columns and the values be the data in that column."
   ]
  },
  {
   "cell_type": "code",
   "execution_count": 8,
   "metadata": {},
   "outputs": [
    {
     "data": {
      "text/plain": [
       "0    {'Height': '203.0 cm', 'Weight': '441.0 kg'}\n",
       "1     {'Height': '191.0 cm', 'Weight': '65.0 kg'}\n",
       "Name: Measurements, dtype: object"
      ]
     },
     "execution_count": 8,
     "metadata": {},
     "output_type": "execute_result"
    }
   ],
   "source": [
    "Left['Measurements'].head(2)"
   ]
  },
  {
   "cell_type": "code",
   "execution_count": 9,
   "metadata": {},
   "outputs": [],
   "source": [
    "to_replace = [',']\n",
    "for char in to_replace:\n",
    "    Left['Measurements'] = Left['Measurements'].str.replace(char,':',regex=False)"
   ]
  },
  {
   "cell_type": "code",
   "execution_count": 10,
   "metadata": {},
   "outputs": [
    {
     "data": {
      "text/html": [
       "<div>\n",
       "<style scoped>\n",
       "    .dataframe tbody tr th:only-of-type {\n",
       "        vertical-align: middle;\n",
       "    }\n",
       "\n",
       "    .dataframe tbody tr th {\n",
       "        vertical-align: top;\n",
       "    }\n",
       "\n",
       "    .dataframe thead th {\n",
       "        text-align: right;\n",
       "    }\n",
       "</style>\n",
       "<table border=\"1\" class=\"dataframe\">\n",
       "  <thead>\n",
       "    <tr style=\"text-align: right;\">\n",
       "      <th></th>\n",
       "      <th>0</th>\n",
       "      <th>1</th>\n",
       "      <th>2</th>\n",
       "      <th>3</th>\n",
       "    </tr>\n",
       "  </thead>\n",
       "  <tbody>\n",
       "    <tr>\n",
       "      <th>0</th>\n",
       "      <td>{'Height'</td>\n",
       "      <td>'203.0 cm'</td>\n",
       "      <td>'Weight'</td>\n",
       "      <td>'441.0 kg'}</td>\n",
       "    </tr>\n",
       "    <tr>\n",
       "      <th>1</th>\n",
       "      <td>{'Height'</td>\n",
       "      <td>'191.0 cm'</td>\n",
       "      <td>'Weight'</td>\n",
       "      <td>'65.0 kg'}</td>\n",
       "    </tr>\n",
       "    <tr>\n",
       "      <th>2</th>\n",
       "      <td>{'Height'</td>\n",
       "      <td>'185.0 cm'</td>\n",
       "      <td>'Weight'</td>\n",
       "      <td>'90.0 kg'}</td>\n",
       "    </tr>\n",
       "    <tr>\n",
       "      <th>3</th>\n",
       "      <td>{'Height'</td>\n",
       "      <td>'203.0 cm'</td>\n",
       "      <td>'Weight'</td>\n",
       "      <td>'441.0 kg'}</td>\n",
       "    </tr>\n",
       "    <tr>\n",
       "      <th>4</th>\n",
       "      <td>{'Height'</td>\n",
       "      <td>'193.0 cm'</td>\n",
       "      <td>'Weight'</td>\n",
       "      <td>'122.0 kg'}</td>\n",
       "    </tr>\n",
       "    <tr>\n",
       "      <th>...</th>\n",
       "      <td>...</td>\n",
       "      <td>...</td>\n",
       "      <td>...</td>\n",
       "      <td>...</td>\n",
       "    </tr>\n",
       "    <tr>\n",
       "      <th>458</th>\n",
       "      <td>{'Height'</td>\n",
       "      <td>'183.0 cm'</td>\n",
       "      <td>'Weight'</td>\n",
       "      <td>'83.0 kg'}</td>\n",
       "    </tr>\n",
       "    <tr>\n",
       "      <th>459</th>\n",
       "      <td>{'Height'</td>\n",
       "      <td>'165.0 cm'</td>\n",
       "      <td>'Weight'</td>\n",
       "      <td>'52.0 kg'}</td>\n",
       "    </tr>\n",
       "    <tr>\n",
       "      <th>460</th>\n",
       "      <td>{'Height'</td>\n",
       "      <td>'66.0 cm'</td>\n",
       "      <td>'Weight'</td>\n",
       "      <td>'17.0 kg'}</td>\n",
       "    </tr>\n",
       "    <tr>\n",
       "      <th>461</th>\n",
       "      <td>{'Height'</td>\n",
       "      <td>'170.0 cm'</td>\n",
       "      <td>'Weight'</td>\n",
       "      <td>'57.0 kg'}</td>\n",
       "    </tr>\n",
       "    <tr>\n",
       "      <th>462</th>\n",
       "      <td>{'Height'</td>\n",
       "      <td>'185.0 cm'</td>\n",
       "      <td>'Weight'</td>\n",
       "      <td>'81.0 kg'}</td>\n",
       "    </tr>\n",
       "  </tbody>\n",
       "</table>\n",
       "<p>463 rows × 4 columns</p>\n",
       "</div>"
      ],
      "text/plain": [
       "             0            1          2             3\n",
       "0    {'Height'   '203.0 cm'   'Weight'   '441.0 kg'}\n",
       "1    {'Height'   '191.0 cm'   'Weight'    '65.0 kg'}\n",
       "2    {'Height'   '185.0 cm'   'Weight'    '90.0 kg'}\n",
       "3    {'Height'   '203.0 cm'   'Weight'   '441.0 kg'}\n",
       "4    {'Height'   '193.0 cm'   'Weight'   '122.0 kg'}\n",
       "..         ...          ...        ...           ...\n",
       "458  {'Height'   '183.0 cm'   'Weight'    '83.0 kg'}\n",
       "459  {'Height'   '165.0 cm'   'Weight'    '52.0 kg'}\n",
       "460  {'Height'    '66.0 cm'   'Weight'    '17.0 kg'}\n",
       "461  {'Height'   '170.0 cm'   'Weight'    '57.0 kg'}\n",
       "462  {'Height'   '185.0 cm'   'Weight'    '81.0 kg'}\n",
       "\n",
       "[463 rows x 4 columns]"
      ]
     },
     "execution_count": 10,
     "metadata": {},
     "output_type": "execute_result"
    }
   ],
   "source": [
    "Left['Measurements'].str.split(':',expand=True)"
   ]
  },
  {
   "cell_type": "code",
   "execution_count": 11,
   "metadata": {},
   "outputs": [
    {
     "data": {
      "text/html": [
       "<div>\n",
       "<style scoped>\n",
       "    .dataframe tbody tr th:only-of-type {\n",
       "        vertical-align: middle;\n",
       "    }\n",
       "\n",
       "    .dataframe tbody tr th {\n",
       "        vertical-align: top;\n",
       "    }\n",
       "\n",
       "    .dataframe thead th {\n",
       "        text-align: right;\n",
       "    }\n",
       "</style>\n",
       "<table border=\"1\" class=\"dataframe\">\n",
       "  <thead>\n",
       "    <tr style=\"text-align: right;\">\n",
       "      <th></th>\n",
       "      <th>Hero|Publisher</th>\n",
       "      <th>Gender</th>\n",
       "      <th>Race</th>\n",
       "      <th>Alignment</th>\n",
       "      <th>Hair color</th>\n",
       "      <th>Eye color</th>\n",
       "      <th>Skin color</th>\n",
       "      <th>Measurements</th>\n",
       "      <th>0</th>\n",
       "      <th>height (cm)</th>\n",
       "      <th>2</th>\n",
       "      <th>weight (kg)</th>\n",
       "    </tr>\n",
       "  </thead>\n",
       "  <tbody>\n",
       "    <tr>\n",
       "      <th>0</th>\n",
       "      <td>A-Bomb|Marvel Comics</td>\n",
       "      <td>Male</td>\n",
       "      <td>Human</td>\n",
       "      <td>good</td>\n",
       "      <td>No Hair</td>\n",
       "      <td>yellow</td>\n",
       "      <td>Unknown</td>\n",
       "      <td>{'Height': '203.0 cm': 'Weight': '441.0 kg'}</td>\n",
       "      <td>{'Height'</td>\n",
       "      <td>'203.0 cm'</td>\n",
       "      <td>'Weight'</td>\n",
       "      <td>'441.0 kg'}</td>\n",
       "    </tr>\n",
       "    <tr>\n",
       "      <th>1</th>\n",
       "      <td>Abe Sapien|Dark Horse Comics</td>\n",
       "      <td>Male</td>\n",
       "      <td>Icthyo Sapien</td>\n",
       "      <td>good</td>\n",
       "      <td>No Hair</td>\n",
       "      <td>blue</td>\n",
       "      <td>blue</td>\n",
       "      <td>{'Height': '191.0 cm': 'Weight': '65.0 kg'}</td>\n",
       "      <td>{'Height'</td>\n",
       "      <td>'191.0 cm'</td>\n",
       "      <td>'Weight'</td>\n",
       "      <td>'65.0 kg'}</td>\n",
       "    </tr>\n",
       "  </tbody>\n",
       "</table>\n",
       "</div>"
      ],
      "text/plain": [
       "                 Hero|Publisher Gender           Race Alignment Hair color  \\\n",
       "0          A-Bomb|Marvel Comics   Male          Human      good    No Hair   \n",
       "1  Abe Sapien|Dark Horse Comics   Male  Icthyo Sapien      good    No Hair   \n",
       "\n",
       "  Eye color Skin color                                  Measurements  \\\n",
       "0    yellow    Unknown  {'Height': '203.0 cm': 'Weight': '441.0 kg'}   \n",
       "1      blue       blue   {'Height': '191.0 cm': 'Weight': '65.0 kg'}   \n",
       "\n",
       "           0  height (cm)          2   weight (kg)  \n",
       "0  {'Height'   '203.0 cm'   'Weight'   '441.0 kg'}  \n",
       "1  {'Height'   '191.0 cm'   'Weight'    '65.0 kg'}  "
      ]
     },
     "execution_count": 11,
     "metadata": {},
     "output_type": "execute_result"
    }
   ],
   "source": [
    "Left[['0','height (cm)','2','weight (kg)']] = Left['Measurements'].str.split(':',expand=True)\n",
    "Left.head(2)"
   ]
  },
  {
   "cell_type": "code",
   "execution_count": 12,
   "metadata": {},
   "outputs": [
    {
     "data": {
      "text/html": [
       "<div>\n",
       "<style scoped>\n",
       "    .dataframe tbody tr th:only-of-type {\n",
       "        vertical-align: middle;\n",
       "    }\n",
       "\n",
       "    .dataframe tbody tr th {\n",
       "        vertical-align: top;\n",
       "    }\n",
       "\n",
       "    .dataframe thead th {\n",
       "        text-align: right;\n",
       "    }\n",
       "</style>\n",
       "<table border=\"1\" class=\"dataframe\">\n",
       "  <thead>\n",
       "    <tr style=\"text-align: right;\">\n",
       "      <th></th>\n",
       "      <th>Hero|Publisher</th>\n",
       "      <th>Gender</th>\n",
       "      <th>Race</th>\n",
       "      <th>Alignment</th>\n",
       "      <th>Hair color</th>\n",
       "      <th>Eye color</th>\n",
       "      <th>Skin color</th>\n",
       "      <th>height (cm)</th>\n",
       "      <th>weight (kg)</th>\n",
       "    </tr>\n",
       "  </thead>\n",
       "  <tbody>\n",
       "    <tr>\n",
       "      <th>0</th>\n",
       "      <td>A-Bomb|Marvel Comics</td>\n",
       "      <td>Male</td>\n",
       "      <td>Human</td>\n",
       "      <td>good</td>\n",
       "      <td>No Hair</td>\n",
       "      <td>yellow</td>\n",
       "      <td>Unknown</td>\n",
       "      <td>'203.0 cm'</td>\n",
       "      <td>'441.0 kg'}</td>\n",
       "    </tr>\n",
       "    <tr>\n",
       "      <th>1</th>\n",
       "      <td>Abe Sapien|Dark Horse Comics</td>\n",
       "      <td>Male</td>\n",
       "      <td>Icthyo Sapien</td>\n",
       "      <td>good</td>\n",
       "      <td>No Hair</td>\n",
       "      <td>blue</td>\n",
       "      <td>blue</td>\n",
       "      <td>'191.0 cm'</td>\n",
       "      <td>'65.0 kg'}</td>\n",
       "    </tr>\n",
       "  </tbody>\n",
       "</table>\n",
       "</div>"
      ],
      "text/plain": [
       "                 Hero|Publisher Gender           Race Alignment Hair color  \\\n",
       "0          A-Bomb|Marvel Comics   Male          Human      good    No Hair   \n",
       "1  Abe Sapien|Dark Horse Comics   Male  Icthyo Sapien      good    No Hair   \n",
       "\n",
       "  Eye color Skin color  height (cm)   weight (kg)  \n",
       "0    yellow    Unknown   '203.0 cm'   '441.0 kg'}  \n",
       "1      blue       blue   '191.0 cm'    '65.0 kg'}  "
      ]
     },
     "execution_count": 12,
     "metadata": {},
     "output_type": "execute_result"
    }
   ],
   "source": [
    "Left = Left.drop(columns=['Measurements', '0', '2'])\n",
    "Left.head(2)"
   ]
  },
  {
   "cell_type": "code",
   "execution_count": 13,
   "metadata": {},
   "outputs": [],
   "source": [
    "to_replace = [\"'\", ' cm', ' kg', '}',' ']\n",
    "for char in to_replace:\n",
    "    Left['height (cm)'] = Left['height (cm)'].str.replace(char,'',regex=False)"
   ]
  },
  {
   "cell_type": "code",
   "execution_count": 14,
   "metadata": {},
   "outputs": [],
   "source": [
    "to_replace = [\"'\", 'cm', 'kg', '}',' ']\n",
    "for char in to_replace:\n",
    "    Left['weight (kg)'] = Left['weight (kg)'].str.replace(char,'',regex=False)"
   ]
  },
  {
   "cell_type": "code",
   "execution_count": 15,
   "metadata": {},
   "outputs": [
    {
     "data": {
      "text/html": [
       "<div>\n",
       "<style scoped>\n",
       "    .dataframe tbody tr th:only-of-type {\n",
       "        vertical-align: middle;\n",
       "    }\n",
       "\n",
       "    .dataframe tbody tr th {\n",
       "        vertical-align: top;\n",
       "    }\n",
       "\n",
       "    .dataframe thead th {\n",
       "        text-align: right;\n",
       "    }\n",
       "</style>\n",
       "<table border=\"1\" class=\"dataframe\">\n",
       "  <thead>\n",
       "    <tr style=\"text-align: right;\">\n",
       "      <th></th>\n",
       "      <th>Hero|Publisher</th>\n",
       "      <th>Gender</th>\n",
       "      <th>Race</th>\n",
       "      <th>Alignment</th>\n",
       "      <th>Hair color</th>\n",
       "      <th>Eye color</th>\n",
       "      <th>Skin color</th>\n",
       "      <th>height (cm)</th>\n",
       "      <th>weight (kg)</th>\n",
       "    </tr>\n",
       "  </thead>\n",
       "  <tbody>\n",
       "    <tr>\n",
       "      <th>0</th>\n",
       "      <td>A-Bomb|Marvel Comics</td>\n",
       "      <td>Male</td>\n",
       "      <td>Human</td>\n",
       "      <td>good</td>\n",
       "      <td>No Hair</td>\n",
       "      <td>yellow</td>\n",
       "      <td>Unknown</td>\n",
       "      <td>203.0</td>\n",
       "      <td>441.0</td>\n",
       "    </tr>\n",
       "    <tr>\n",
       "      <th>1</th>\n",
       "      <td>Abe Sapien|Dark Horse Comics</td>\n",
       "      <td>Male</td>\n",
       "      <td>Icthyo Sapien</td>\n",
       "      <td>good</td>\n",
       "      <td>No Hair</td>\n",
       "      <td>blue</td>\n",
       "      <td>blue</td>\n",
       "      <td>191.0</td>\n",
       "      <td>65.0</td>\n",
       "    </tr>\n",
       "  </tbody>\n",
       "</table>\n",
       "</div>"
      ],
      "text/plain": [
       "                 Hero|Publisher Gender           Race Alignment Hair color  \\\n",
       "0          A-Bomb|Marvel Comics   Male          Human      good    No Hair   \n",
       "1  Abe Sapien|Dark Horse Comics   Male  Icthyo Sapien      good    No Hair   \n",
       "\n",
       "  Eye color Skin color height (cm) weight (kg)  \n",
       "0    yellow    Unknown       203.0       441.0  \n",
       "1      blue       blue       191.0        65.0  "
      ]
     },
     "execution_count": 15,
     "metadata": {},
     "output_type": "execute_result"
    }
   ],
   "source": [
    "Left.head(2)"
   ]
  },
  {
   "cell_type": "code",
   "execution_count": 16,
   "metadata": {},
   "outputs": [
    {
     "name": "stdout",
     "output_type": "stream",
     "text": [
      "<class 'pandas.core.frame.DataFrame'>\n",
      "RangeIndex: 463 entries, 0 to 462\n",
      "Data columns (total 9 columns):\n",
      " #   Column          Non-Null Count  Dtype \n",
      "---  ------          --------------  ----- \n",
      " 0   Hero|Publisher  463 non-null    object\n",
      " 1   Gender          463 non-null    object\n",
      " 2   Race            463 non-null    object\n",
      " 3   Alignment       463 non-null    object\n",
      " 4   Hair color      463 non-null    object\n",
      " 5   Eye color       463 non-null    object\n",
      " 6   Skin color      463 non-null    object\n",
      " 7   height (cm)     463 non-null    object\n",
      " 8   weight (kg)     463 non-null    object\n",
      "dtypes: object(9)\n",
      "memory usage: 32.7+ KB\n"
     ]
    }
   ],
   "source": [
    "Left.info()"
   ]
  },
  {
   "cell_type": "markdown",
   "metadata": {},
   "source": [
    "Addressing Hero Column by splitting column at pipe then will create a hero column then I will remove pipe and hero|Publisher column and 1 column"
   ]
  },
  {
   "cell_type": "code",
   "execution_count": 17,
   "metadata": {},
   "outputs": [
    {
     "data": {
      "text/html": [
       "<div>\n",
       "<style scoped>\n",
       "    .dataframe tbody tr th:only-of-type {\n",
       "        vertical-align: middle;\n",
       "    }\n",
       "\n",
       "    .dataframe tbody tr th {\n",
       "        vertical-align: top;\n",
       "    }\n",
       "\n",
       "    .dataframe thead th {\n",
       "        text-align: right;\n",
       "    }\n",
       "</style>\n",
       "<table border=\"1\" class=\"dataframe\">\n",
       "  <thead>\n",
       "    <tr style=\"text-align: right;\">\n",
       "      <th></th>\n",
       "      <th>0</th>\n",
       "      <th>1</th>\n",
       "    </tr>\n",
       "  </thead>\n",
       "  <tbody>\n",
       "    <tr>\n",
       "      <th>0</th>\n",
       "      <td>A-Bomb</td>\n",
       "      <td>Marvel Comics</td>\n",
       "    </tr>\n",
       "    <tr>\n",
       "      <th>1</th>\n",
       "      <td>Abe Sapien</td>\n",
       "      <td>Dark Horse Comics</td>\n",
       "    </tr>\n",
       "    <tr>\n",
       "      <th>2</th>\n",
       "      <td>Abin Sur</td>\n",
       "      <td>DC Comics</td>\n",
       "    </tr>\n",
       "    <tr>\n",
       "      <th>3</th>\n",
       "      <td>Abomination</td>\n",
       "      <td>Marvel Comics</td>\n",
       "    </tr>\n",
       "    <tr>\n",
       "      <th>4</th>\n",
       "      <td>Absorbing Man</td>\n",
       "      <td>Marvel Comics</td>\n",
       "    </tr>\n",
       "    <tr>\n",
       "      <th>...</th>\n",
       "      <td>...</td>\n",
       "      <td>...</td>\n",
       "    </tr>\n",
       "    <tr>\n",
       "      <th>458</th>\n",
       "      <td>Yellowjacket</td>\n",
       "      <td>Marvel Comics</td>\n",
       "    </tr>\n",
       "    <tr>\n",
       "      <th>459</th>\n",
       "      <td>Yellowjacket II</td>\n",
       "      <td>Marvel Comics</td>\n",
       "    </tr>\n",
       "    <tr>\n",
       "      <th>460</th>\n",
       "      <td>Yoda</td>\n",
       "      <td>George Lucas</td>\n",
       "    </tr>\n",
       "    <tr>\n",
       "      <th>461</th>\n",
       "      <td>Zatanna</td>\n",
       "      <td>DC Comics</td>\n",
       "    </tr>\n",
       "    <tr>\n",
       "      <th>462</th>\n",
       "      <td>Zoom</td>\n",
       "      <td>DC Comics</td>\n",
       "    </tr>\n",
       "  </tbody>\n",
       "</table>\n",
       "<p>463 rows × 2 columns</p>\n",
       "</div>"
      ],
      "text/plain": [
       "                   0                  1\n",
       "0             A-Bomb      Marvel Comics\n",
       "1         Abe Sapien  Dark Horse Comics\n",
       "2           Abin Sur          DC Comics\n",
       "3        Abomination      Marvel Comics\n",
       "4      Absorbing Man      Marvel Comics\n",
       "..               ...                ...\n",
       "458     Yellowjacket      Marvel Comics\n",
       "459  Yellowjacket II      Marvel Comics\n",
       "460             Yoda       George Lucas\n",
       "461          Zatanna          DC Comics\n",
       "462             Zoom          DC Comics\n",
       "\n",
       "[463 rows x 2 columns]"
      ]
     },
     "execution_count": 17,
     "metadata": {},
     "output_type": "execute_result"
    }
   ],
   "source": [
    "Left['Hero|Publisher'].str.split('|',expand=True)"
   ]
  },
  {
   "cell_type": "code",
   "execution_count": 18,
   "metadata": {},
   "outputs": [
    {
     "data": {
      "text/html": [
       "<div>\n",
       "<style scoped>\n",
       "    .dataframe tbody tr th:only-of-type {\n",
       "        vertical-align: middle;\n",
       "    }\n",
       "\n",
       "    .dataframe tbody tr th {\n",
       "        vertical-align: top;\n",
       "    }\n",
       "\n",
       "    .dataframe thead th {\n",
       "        text-align: right;\n",
       "    }\n",
       "</style>\n",
       "<table border=\"1\" class=\"dataframe\">\n",
       "  <thead>\n",
       "    <tr style=\"text-align: right;\">\n",
       "      <th></th>\n",
       "      <th>Hero|Publisher</th>\n",
       "      <th>Gender</th>\n",
       "      <th>Race</th>\n",
       "      <th>Alignment</th>\n",
       "      <th>Hair color</th>\n",
       "      <th>Eye color</th>\n",
       "      <th>Skin color</th>\n",
       "      <th>height (cm)</th>\n",
       "      <th>weight (kg)</th>\n",
       "      <th>hero</th>\n",
       "      <th>publishier</th>\n",
       "    </tr>\n",
       "  </thead>\n",
       "  <tbody>\n",
       "    <tr>\n",
       "      <th>0</th>\n",
       "      <td>A-Bomb|Marvel Comics</td>\n",
       "      <td>Male</td>\n",
       "      <td>Human</td>\n",
       "      <td>good</td>\n",
       "      <td>No Hair</td>\n",
       "      <td>yellow</td>\n",
       "      <td>Unknown</td>\n",
       "      <td>203.0</td>\n",
       "      <td>441.0</td>\n",
       "      <td>A-Bomb</td>\n",
       "      <td>Marvel Comics</td>\n",
       "    </tr>\n",
       "    <tr>\n",
       "      <th>1</th>\n",
       "      <td>Abe Sapien|Dark Horse Comics</td>\n",
       "      <td>Male</td>\n",
       "      <td>Icthyo Sapien</td>\n",
       "      <td>good</td>\n",
       "      <td>No Hair</td>\n",
       "      <td>blue</td>\n",
       "      <td>blue</td>\n",
       "      <td>191.0</td>\n",
       "      <td>65.0</td>\n",
       "      <td>Abe Sapien</td>\n",
       "      <td>Dark Horse Comics</td>\n",
       "    </tr>\n",
       "  </tbody>\n",
       "</table>\n",
       "</div>"
      ],
      "text/plain": [
       "                 Hero|Publisher Gender           Race Alignment Hair color  \\\n",
       "0          A-Bomb|Marvel Comics   Male          Human      good    No Hair   \n",
       "1  Abe Sapien|Dark Horse Comics   Male  Icthyo Sapien      good    No Hair   \n",
       "\n",
       "  Eye color Skin color height (cm) weight (kg)        hero         publishier  \n",
       "0    yellow    Unknown       203.0       441.0      A-Bomb      Marvel Comics  \n",
       "1      blue       blue       191.0        65.0  Abe Sapien  Dark Horse Comics  "
      ]
     },
     "execution_count": 18,
     "metadata": {},
     "output_type": "execute_result"
    }
   ],
   "source": [
    "Left[['hero','publishier']] = Left['Hero|Publisher'].str.split('|',expand=True)\n",
    "Left.head(2)"
   ]
  },
  {
   "cell_type": "code",
   "execution_count": 19,
   "metadata": {},
   "outputs": [
    {
     "data": {
      "text/html": [
       "<div>\n",
       "<style scoped>\n",
       "    .dataframe tbody tr th:only-of-type {\n",
       "        vertical-align: middle;\n",
       "    }\n",
       "\n",
       "    .dataframe tbody tr th {\n",
       "        vertical-align: top;\n",
       "    }\n",
       "\n",
       "    .dataframe thead th {\n",
       "        text-align: right;\n",
       "    }\n",
       "</style>\n",
       "<table border=\"1\" class=\"dataframe\">\n",
       "  <thead>\n",
       "    <tr style=\"text-align: right;\">\n",
       "      <th></th>\n",
       "      <th>Gender</th>\n",
       "      <th>Race</th>\n",
       "      <th>Alignment</th>\n",
       "      <th>Hair color</th>\n",
       "      <th>Eye color</th>\n",
       "      <th>Skin color</th>\n",
       "      <th>height (cm)</th>\n",
       "      <th>weight (kg)</th>\n",
       "      <th>hero</th>\n",
       "      <th>publishier</th>\n",
       "    </tr>\n",
       "  </thead>\n",
       "  <tbody>\n",
       "    <tr>\n",
       "      <th>0</th>\n",
       "      <td>Male</td>\n",
       "      <td>Human</td>\n",
       "      <td>good</td>\n",
       "      <td>No Hair</td>\n",
       "      <td>yellow</td>\n",
       "      <td>Unknown</td>\n",
       "      <td>203.0</td>\n",
       "      <td>441.0</td>\n",
       "      <td>A-Bomb</td>\n",
       "      <td>Marvel Comics</td>\n",
       "    </tr>\n",
       "    <tr>\n",
       "      <th>1</th>\n",
       "      <td>Male</td>\n",
       "      <td>Icthyo Sapien</td>\n",
       "      <td>good</td>\n",
       "      <td>No Hair</td>\n",
       "      <td>blue</td>\n",
       "      <td>blue</td>\n",
       "      <td>191.0</td>\n",
       "      <td>65.0</td>\n",
       "      <td>Abe Sapien</td>\n",
       "      <td>Dark Horse Comics</td>\n",
       "    </tr>\n",
       "  </tbody>\n",
       "</table>\n",
       "</div>"
      ],
      "text/plain": [
       "  Gender           Race Alignment Hair color Eye color Skin color height (cm)  \\\n",
       "0   Male          Human      good    No Hair    yellow    Unknown       203.0   \n",
       "1   Male  Icthyo Sapien      good    No Hair      blue       blue       191.0   \n",
       "\n",
       "  weight (kg)        hero         publishier  \n",
       "0       441.0      A-Bomb      Marvel Comics  \n",
       "1        65.0  Abe Sapien  Dark Horse Comics  "
      ]
     },
     "execution_count": 19,
     "metadata": {},
     "output_type": "execute_result"
    }
   ],
   "source": [
    "Left = Left.drop(columns=['Hero|Publisher'])\n",
    "Left.head(2)"
   ]
  },
  {
   "cell_type": "code",
   "execution_count": 20,
   "metadata": {},
   "outputs": [
    {
     "data": {
      "text/plain": [
       "['122.0',\n",
       " '137.0',\n",
       " '142.0',\n",
       " '15.2',\n",
       " '155.0',\n",
       " '157.0',\n",
       " '160.0',\n",
       " '163.0',\n",
       " '165.0',\n",
       " '168.0']"
      ]
     },
     "execution_count": 20,
     "metadata": {},
     "output_type": "execute_result"
    }
   ],
   "source": [
    "unique_ids = sorted(Left['height (cm)'].unique())\n",
    "unique_ids[:10]"
   ]
  },
  {
   "cell_type": "code",
   "execution_count": 21,
   "metadata": {},
   "outputs": [
    {
     "data": {
      "text/plain": [
       "['101.0',\n",
       " '104.0',\n",
       " '105.0',\n",
       " '106.0',\n",
       " '108.0',\n",
       " '110.0',\n",
       " '113.0',\n",
       " '115.0',\n",
       " '116.0',\n",
       " '117.0']"
      ]
     },
     "execution_count": 21,
     "metadata": {},
     "output_type": "execute_result"
    }
   ],
   "source": [
    "unique_ids = sorted(Left['weight (kg)'].unique())\n",
    "unique_ids[:10]"
   ]
  },
  {
   "cell_type": "code",
   "execution_count": 22,
   "metadata": {},
   "outputs": [],
   "source": [
    "Left['height (cm)'] = Left['height (cm)'].astype(float)"
   ]
  },
  {
   "cell_type": "code",
   "execution_count": 23,
   "metadata": {},
   "outputs": [],
   "source": [
    "Left['weight (kg) '] = Left['weight (kg)'].astype(float)"
   ]
  },
  {
   "cell_type": "code",
   "execution_count": 24,
   "metadata": {},
   "outputs": [
    {
     "data": {
      "text/plain": [
       "Gender           object\n",
       "Race             object\n",
       "Alignment        object\n",
       "Hair color       object\n",
       "Eye color        object\n",
       "Skin color       object\n",
       "height (cm)     float64\n",
       "weight (kg)      object\n",
       "hero             object\n",
       "publishier       object\n",
       "weight (kg)     float64\n",
       "dtype: object"
      ]
     },
     "execution_count": 24,
     "metadata": {},
     "output_type": "execute_result"
    }
   ],
   "source": [
    "Left.dtypes"
   ]
  },
  {
   "cell_type": "code",
   "execution_count": 27,
   "metadata": {},
   "outputs": [
    {
     "ename": "FileNotFoundError",
     "evalue": "[Errno 2] No such file or directory: '/Data/superhero_info_clean.csv.gz'",
     "output_type": "error",
     "traceback": [
      "\u001b[1;31m---------------------------------------------------------------------------\u001b[0m",
      "\u001b[1;31mFileNotFoundError\u001b[0m                         Traceback (most recent call last)",
      "\u001b[1;32m~\\AppData\\Local\\Temp\\ipykernel_26192\\2915647861.py\u001b[0m in \u001b[0;36m<module>\u001b[1;34m\u001b[0m\n\u001b[1;32m----> 1\u001b[1;33m \u001b[0mLeft\u001b[0m\u001b[1;33m.\u001b[0m\u001b[0mto_csv\u001b[0m\u001b[1;33m(\u001b[0m\u001b[1;34m'/Data/superhero_info_clean.csv.gz'\u001b[0m\u001b[1;33m,\u001b[0m \u001b[0mcompression\u001b[0m\u001b[1;33m=\u001b[0m\u001b[1;34m'gzip'\u001b[0m\u001b[1;33m,\u001b[0m\u001b[0mindex\u001b[0m\u001b[1;33m=\u001b[0m\u001b[1;32mFalse\u001b[0m\u001b[1;33m)\u001b[0m\u001b[1;33m\u001b[0m\u001b[1;33m\u001b[0m\u001b[0m\n\u001b[0m",
      "\u001b[1;32mc:\\Users\\staichn\\Anaconda3\\envs\\dojo-env\\lib\\site-packages\\pandas\\core\\generic.py\u001b[0m in \u001b[0;36mto_csv\u001b[1;34m(self, path_or_buf, sep, na_rep, float_format, columns, header, index, index_label, mode, encoding, compression, quoting, quotechar, line_terminator, chunksize, date_format, doublequote, escapechar, decimal, errors, storage_options)\u001b[0m\n\u001b[0;32m   3480\u001b[0m             \u001b[0mdoublequote\u001b[0m\u001b[1;33m=\u001b[0m\u001b[0mdoublequote\u001b[0m\u001b[1;33m,\u001b[0m\u001b[1;33m\u001b[0m\u001b[1;33m\u001b[0m\u001b[0m\n\u001b[0;32m   3481\u001b[0m             \u001b[0mescapechar\u001b[0m\u001b[1;33m=\u001b[0m\u001b[0mescapechar\u001b[0m\u001b[1;33m,\u001b[0m\u001b[1;33m\u001b[0m\u001b[1;33m\u001b[0m\u001b[0m\n\u001b[1;32m-> 3482\u001b[1;33m             \u001b[0mstorage_options\u001b[0m\u001b[1;33m=\u001b[0m\u001b[0mstorage_options\u001b[0m\u001b[1;33m,\u001b[0m\u001b[1;33m\u001b[0m\u001b[1;33m\u001b[0m\u001b[0m\n\u001b[0m\u001b[0;32m   3483\u001b[0m         )\n\u001b[0;32m   3484\u001b[0m \u001b[1;33m\u001b[0m\u001b[0m\n",
      "\u001b[1;32mc:\\Users\\staichn\\Anaconda3\\envs\\dojo-env\\lib\\site-packages\\pandas\\io\\formats\\format.py\u001b[0m in \u001b[0;36mto_csv\u001b[1;34m(self, path_or_buf, encoding, sep, columns, index_label, mode, compression, quoting, quotechar, line_terminator, chunksize, date_format, doublequote, escapechar, errors, storage_options)\u001b[0m\n\u001b[0;32m   1103\u001b[0m             \u001b[0mformatter\u001b[0m\u001b[1;33m=\u001b[0m\u001b[0mself\u001b[0m\u001b[1;33m.\u001b[0m\u001b[0mfmt\u001b[0m\u001b[1;33m,\u001b[0m\u001b[1;33m\u001b[0m\u001b[1;33m\u001b[0m\u001b[0m\n\u001b[0;32m   1104\u001b[0m         )\n\u001b[1;32m-> 1105\u001b[1;33m         \u001b[0mcsv_formatter\u001b[0m\u001b[1;33m.\u001b[0m\u001b[0msave\u001b[0m\u001b[1;33m(\u001b[0m\u001b[1;33m)\u001b[0m\u001b[1;33m\u001b[0m\u001b[1;33m\u001b[0m\u001b[0m\n\u001b[0m\u001b[0;32m   1106\u001b[0m \u001b[1;33m\u001b[0m\u001b[0m\n\u001b[0;32m   1107\u001b[0m         \u001b[1;32mif\u001b[0m \u001b[0mcreated_buffer\u001b[0m\u001b[1;33m:\u001b[0m\u001b[1;33m\u001b[0m\u001b[1;33m\u001b[0m\u001b[0m\n",
      "\u001b[1;32mc:\\Users\\staichn\\Anaconda3\\envs\\dojo-env\\lib\\site-packages\\pandas\\io\\formats\\csvs.py\u001b[0m in \u001b[0;36msave\u001b[1;34m(self)\u001b[0m\n\u001b[0;32m    241\u001b[0m             \u001b[0merrors\u001b[0m\u001b[1;33m=\u001b[0m\u001b[0mself\u001b[0m\u001b[1;33m.\u001b[0m\u001b[0merrors\u001b[0m\u001b[1;33m,\u001b[0m\u001b[1;33m\u001b[0m\u001b[1;33m\u001b[0m\u001b[0m\n\u001b[0;32m    242\u001b[0m             \u001b[0mcompression\u001b[0m\u001b[1;33m=\u001b[0m\u001b[0mself\u001b[0m\u001b[1;33m.\u001b[0m\u001b[0mcompression\u001b[0m\u001b[1;33m,\u001b[0m\u001b[1;33m\u001b[0m\u001b[1;33m\u001b[0m\u001b[0m\n\u001b[1;32m--> 243\u001b[1;33m             \u001b[0mstorage_options\u001b[0m\u001b[1;33m=\u001b[0m\u001b[0mself\u001b[0m\u001b[1;33m.\u001b[0m\u001b[0mstorage_options\u001b[0m\u001b[1;33m,\u001b[0m\u001b[1;33m\u001b[0m\u001b[1;33m\u001b[0m\u001b[0m\n\u001b[0m\u001b[0;32m    244\u001b[0m         ) as handles:\n\u001b[0;32m    245\u001b[0m \u001b[1;33m\u001b[0m\u001b[0m\n",
      "\u001b[1;32mc:\\Users\\staichn\\Anaconda3\\envs\\dojo-env\\lib\\site-packages\\pandas\\io\\common.py\u001b[0m in \u001b[0;36mget_handle\u001b[1;34m(path_or_buf, mode, encoding, compression, memory_map, is_text, errors, storage_options)\u001b[0m\n\u001b[0;32m    643\u001b[0m                     \u001b[0mfilename\u001b[0m\u001b[1;33m=\u001b[0m\u001b[0mhandle\u001b[0m\u001b[1;33m,\u001b[0m\u001b[1;33m\u001b[0m\u001b[1;33m\u001b[0m\u001b[0m\n\u001b[0;32m    644\u001b[0m                     \u001b[0mmode\u001b[0m\u001b[1;33m=\u001b[0m\u001b[0mioargs\u001b[0m\u001b[1;33m.\u001b[0m\u001b[0mmode\u001b[0m\u001b[1;33m,\u001b[0m\u001b[1;33m\u001b[0m\u001b[1;33m\u001b[0m\u001b[0m\n\u001b[1;32m--> 645\u001b[1;33m                     \u001b[1;33m**\u001b[0m\u001b[0mcompression_args\u001b[0m\u001b[1;33m,\u001b[0m\u001b[1;33m\u001b[0m\u001b[1;33m\u001b[0m\u001b[0m\n\u001b[0m\u001b[0;32m    646\u001b[0m                 )\n\u001b[0;32m    647\u001b[0m             \u001b[1;32melse\u001b[0m\u001b[1;33m:\u001b[0m\u001b[1;33m\u001b[0m\u001b[1;33m\u001b[0m\u001b[0m\n",
      "\u001b[1;32mc:\\Users\\staichn\\Anaconda3\\envs\\dojo-env\\lib\\gzip.py\u001b[0m in \u001b[0;36m__init__\u001b[1;34m(self, filename, mode, compresslevel, fileobj, mtime)\u001b[0m\n\u001b[0;32m    166\u001b[0m             \u001b[0mmode\u001b[0m \u001b[1;33m+=\u001b[0m \u001b[1;34m'b'\u001b[0m\u001b[1;33m\u001b[0m\u001b[1;33m\u001b[0m\u001b[0m\n\u001b[0;32m    167\u001b[0m         \u001b[1;32mif\u001b[0m \u001b[0mfileobj\u001b[0m \u001b[1;32mis\u001b[0m \u001b[1;32mNone\u001b[0m\u001b[1;33m:\u001b[0m\u001b[1;33m\u001b[0m\u001b[1;33m\u001b[0m\u001b[0m\n\u001b[1;32m--> 168\u001b[1;33m             \u001b[0mfileobj\u001b[0m \u001b[1;33m=\u001b[0m \u001b[0mself\u001b[0m\u001b[1;33m.\u001b[0m\u001b[0mmyfileobj\u001b[0m \u001b[1;33m=\u001b[0m \u001b[0mbuiltins\u001b[0m\u001b[1;33m.\u001b[0m\u001b[0mopen\u001b[0m\u001b[1;33m(\u001b[0m\u001b[0mfilename\u001b[0m\u001b[1;33m,\u001b[0m \u001b[0mmode\u001b[0m \u001b[1;32mor\u001b[0m \u001b[1;34m'rb'\u001b[0m\u001b[1;33m)\u001b[0m\u001b[1;33m\u001b[0m\u001b[1;33m\u001b[0m\u001b[0m\n\u001b[0m\u001b[0;32m    169\u001b[0m         \u001b[1;32mif\u001b[0m \u001b[0mfilename\u001b[0m \u001b[1;32mis\u001b[0m \u001b[1;32mNone\u001b[0m\u001b[1;33m:\u001b[0m\u001b[1;33m\u001b[0m\u001b[1;33m\u001b[0m\u001b[0m\n\u001b[0;32m    170\u001b[0m             \u001b[0mfilename\u001b[0m \u001b[1;33m=\u001b[0m \u001b[0mgetattr\u001b[0m\u001b[1;33m(\u001b[0m\u001b[0mfileobj\u001b[0m\u001b[1;33m,\u001b[0m \u001b[1;34m'name'\u001b[0m\u001b[1;33m,\u001b[0m \u001b[1;34m''\u001b[0m\u001b[1;33m)\u001b[0m\u001b[1;33m\u001b[0m\u001b[1;33m\u001b[0m\u001b[0m\n",
      "\u001b[1;31mFileNotFoundError\u001b[0m: [Errno 2] No such file or directory: '/Data/superhero_info_clean.csv.gz'"
     ]
    }
   ],
   "source": [
    "Left.to_csv('/Data/superhero_info_clean.csv.gz', compression='gzip',index=False)"
   ]
  },
  {
   "cell_type": "markdown",
   "metadata": {},
   "source": [
    "Starting right df we need to address the powers column will need to make column for each power by one-hot-encodingight"
   ]
  },
  {
   "cell_type": "code",
   "execution_count": 59,
   "metadata": {},
   "outputs": [],
   "source": [
    "## use .str.replace to replace all single quotes\n",
    "Right['Powers'] = Right['Powers'].replace('\\'', '\\\"')"
   ]
  },
  {
   "cell_type": "code",
   "execution_count": 60,
   "metadata": {},
   "outputs": [
    {
     "name": "stdout",
     "output_type": "stream",
     "text": [
      "<class 'str'>\n"
     ]
    },
    {
     "data": {
      "text/plain": [
       "'Agility,Accelerated Healing,Cold Resistance,Durability,Underwater breathing,Marksmanship,Weapons Master,Longevity,Intelligence,Super Strength,Telepathy,Stamina,Immortality,Reflexes,Enhanced Sight,Sub-Mariner'"
      ]
     },
     "execution_count": 60,
     "metadata": {},
     "output_type": "execute_result"
    }
   ],
   "source": [
    "power = Right.loc[2,'Powers']\n",
    "print(type(power))\n",
    "power"
   ]
  },
  {
   "cell_type": "code",
   "execution_count": 27,
   "metadata": {},
   "outputs": [],
   "source": [
    "## use .str.replace to replace all single quotes\n",
    "Right['Powers'] = Right['Powers'].str.replace(\",\",'\",\"')"
   ]
  },
  {
   "cell_type": "code",
   "execution_count": 31,
   "metadata": {},
   "outputs": [
    {
     "name": "stdout",
     "output_type": "stream",
     "text": [
      "<class 'str'>\n"
     ]
    },
    {
     "data": {
      "text/plain": [
       "'Agility\",\"Accelerated Healing\",\"Cold Resistance\",\"Durability\",\"Underwater breathing\",\"Marksmanship\",\"Weapons Master\",\"Longevity\",\"Intelligence\",\"Super Strength\",\"Telepathy\",\"Stamina\",\"Immortality\",\"Reflexes\",\"Enhanced Sight\",\"Sub-Mariner'"
      ]
     },
     "execution_count": 31,
     "metadata": {},
     "output_type": "execute_result"
    }
   ],
   "source": [
    "power = Right.loc[2,'Powers']\n",
    "print(type(power))\n",
    "power"
   ]
  },
  {
   "cell_type": "code",
   "execution_count": 66,
   "metadata": {},
   "outputs": [
    {
     "data": {
      "text/plain": [
       "0        [Agility, Super Strength, Stamina, Super Speed]\n",
       "1      [Accelerated Healing, Durability, Longevity, S...\n",
       "2      [Agility, Accelerated Healing, Cold Resistance...\n",
       "3                                   [Lantern Power Ring]\n",
       "4      [Accelerated Healing, Intelligence, Super Stre...\n",
       "                             ...                        \n",
       "662               [Flight, Energy Blasts, Size Changing]\n",
       "663    [Cold Resistance, Durability, Longevity, Super...\n",
       "664    [Agility, Stealth, Danger Sense, Marksmanship,...\n",
       "665    [Cryokinesis, Telepathy, Magic, Fire Control, ...\n",
       "666    [Super Speed, Intangibility, Time Travel, Time...\n",
       "Name: Powers, Length: 667, dtype: object"
      ]
     },
     "execution_count": 66,
     "metadata": {},
     "output_type": "execute_result"
    }
   ],
   "source": [
    "target = Right['Powers'].str.split(',')\n",
    "target"
   ]
  },
  {
   "cell_type": "code",
   "execution_count": 68,
   "metadata": {},
   "outputs": [
    {
     "data": {
      "text/plain": [
       "0                  Agility\n",
       "0           Super Strength\n",
       "0                  Stamina\n",
       "0              Super Speed\n",
       "1      Accelerated Healing\n",
       "              ...         \n",
       "665        Weather Control\n",
       "666            Super Speed\n",
       "666          Intangibility\n",
       "666            Time Travel\n",
       "666      Time Manipulation\n",
       "Name: Powers, Length: 5874, dtype: object"
      ]
     },
     "execution_count": 68,
     "metadata": {},
     "output_type": "execute_result"
    }
   ],
   "source": [
    "exploded = target.explode(ignore_index=False)\n",
    "exploded"
   ]
  },
  {
   "cell_type": "code",
   "execution_count": 69,
   "metadata": {},
   "outputs": [
    {
     "data": {
      "text/plain": [
       "array(['Agility', 'Super Strength', 'Stamina', 'Super Speed',\n",
       "       'Accelerated Healing', 'Durability', 'Longevity', 'Camouflage',\n",
       "       'Self-Sustenance', 'Cold Resistance', 'Underwater breathing',\n",
       "       'Marksmanship', 'Weapons Master', 'Intelligence', 'Telepathy',\n",
       "       'Immortality', 'Reflexes', 'Enhanced Sight', 'Sub-Mariner',\n",
       "       'Lantern Power Ring', 'Invulnerability', 'Animation',\n",
       "       'Super Breath', 'Dimensional Awareness', 'Flight', 'Size Changing',\n",
       "       'Teleportation', 'Magic', 'Dimensional Travel',\n",
       "       'Molecular Manipulation', 'Energy Manipulation', 'Power Cosmic',\n",
       "       'Energy Absorption', 'Elemental Transmogrification',\n",
       "       'Fire Resistance', 'Natural Armor', 'Heat Resistance',\n",
       "       'Matter Absorption', 'Regeneration', 'Stealth', 'Power Suit',\n",
       "       'Energy Blasts', 'Energy Beams', 'Heat Generation', 'Danger Sense',\n",
       "       'Phasing', 'Force Fields', 'Hypnokinesis', 'Invisibility',\n",
       "       'Enhanced Senses', 'Jump', 'Shapeshifting', 'Elasticity',\n",
       "       'Substance Secretion', 'Enhanced Hearing', 'Adaptation', 'Gliding',\n",
       "       'Natural Weapons', 'Wallcrawling', 'Vision - Thermal',\n",
       "       'Power Augmentation', 'Cryokinesis', 'Duplication',\n",
       "       'Weapon-based Powers', 'Fire Control', 'Enhanced Memory',\n",
       "       'Energy Constructs', 'Power Absorption', 'Time Travel',\n",
       "       'Enhanced Smell', 'Water Control', 'Vision - Telescopic',\n",
       "       'Magnetism', 'Vision - Microscopic', 'Vision - Night',\n",
       "       'Vision - Heat', 'Vision - X-Ray', 'Psionic Powers',\n",
       "       'Toxin and Disease Resistance', 'Animal Attributes',\n",
       "       'Animal Oriented Powers', 'Toxin and Disease Control', 'Empathy',\n",
       "       'Animal Control', 'Darkforce Manipulation', 'Time Manipulation',\n",
       "       'Reality Warping', 'Web Creation', 'Symbiote Costume',\n",
       "       'Telekinesis', 'Levitation', 'Biokinesis', 'Sonar',\n",
       "       'Enhanced Touch', 'Seismic Power', 'Energy Armor',\n",
       "       'Omnilingualism', 'Radiation Immunity', 'Density Control',\n",
       "       'Light Control', 'Illumination', 'Molecular Combustion',\n",
       "       'Astral Travel', 'Precognition', 'Intangibility', 'Illusions',\n",
       "       'Audio Control', 'Sonic Scream', 'Peak Human Condition',\n",
       "       'Vision - Infrared', 'Dexterity', 'Omnitrix', 'Omnipotent',\n",
       "       'Possession', 'Energy Resistance', 'Vision - Cryo', 'Mind Control',\n",
       "       'Mind Blast', 'Clairvoyance', 'Probability Manipulation',\n",
       "       'Death Touch', 'Electrokinesis', 'Gravity Control',\n",
       "       'Technopath/Cyberpath', 'Radar Sense', 'Astral Projection',\n",
       "       'Cloaking', 'Telepathy Resistance', 'Mind Control Resistance',\n",
       "       'Hyperkinesis', 'Spatial Awareness', 'Radiation Control',\n",
       "       'Radiation Absorption', 'Magic Resistance', 'Element Control',\n",
       "       'Plant Control', 'Terrakinesis', 'Power Sense', 'Wind Control',\n",
       "       'Qwardian Power Ring', 'Echolocation', 'Resurrection', 'The Force',\n",
       "       'Summoning', 'Banish', 'Molecular Dissipation',\n",
       "       'Electrical Transport', 'Speed Force', 'Grim Reaping',\n",
       "       'Portal Creation', 'Vitakinesis', 'Projection', 'Insanity',\n",
       "       'Photographic Reflexes', 'Anti-Gravity', 'Thirstokinesis',\n",
       "       'Power Nullifier', 'Weather Control', 'Omnipresent', 'Omniscient',\n",
       "       'Hair Manipulation', 'Nova Force', 'Odin Force', 'Phoenix Force',\n",
       "       'Intuitive aptitude', 'Melting', 'Changing Armor'], dtype=object)"
      ]
     },
     "execution_count": 69,
     "metadata": {},
     "output_type": "execute_result"
    }
   ],
   "source": [
    "cols_to_make = exploded.unique()\n",
    "cols_to_make"
   ]
  },
  {
   "cell_type": "code",
   "execution_count": 70,
   "metadata": {},
   "outputs": [
    {
     "name": "stderr",
     "output_type": "stream",
     "text": [
      "c:\\Users\\staichn\\Anaconda3\\envs\\dojo-env\\lib\\site-packages\\ipykernel_launcher.py:2: PerformanceWarning: DataFrame is highly fragmented.  This is usually the result of calling `frame.insert` many times, which has poor performance.  Consider joining all columns at once using pd.concat(axis=1) instead.  To get a de-fragmented frame, use `newframe = frame.copy()`\n",
      "  \n"
     ]
    },
    {
     "data": {
      "text/html": [
       "<div>\n",
       "<style scoped>\n",
       "    .dataframe tbody tr th:only-of-type {\n",
       "        vertical-align: middle;\n",
       "    }\n",
       "\n",
       "    .dataframe tbody tr th {\n",
       "        vertical-align: top;\n",
       "    }\n",
       "\n",
       "    .dataframe thead th {\n",
       "        text-align: right;\n",
       "    }\n",
       "</style>\n",
       "<table border=\"1\" class=\"dataframe\">\n",
       "  <thead>\n",
       "    <tr style=\"text-align: right;\">\n",
       "      <th></th>\n",
       "      <th>hero_names</th>\n",
       "      <th>Powers</th>\n",
       "      <th>Agility</th>\n",
       "      <th>Super Strength</th>\n",
       "      <th>Stamina</th>\n",
       "      <th>Super Speed</th>\n",
       "      <th>Accelerated Healing</th>\n",
       "      <th>Durability</th>\n",
       "      <th>Longevity</th>\n",
       "      <th>Camouflage</th>\n",
       "      <th>...</th>\n",
       "      <th>Weather Control</th>\n",
       "      <th>Omnipresent</th>\n",
       "      <th>Omniscient</th>\n",
       "      <th>Hair Manipulation</th>\n",
       "      <th>Nova Force</th>\n",
       "      <th>Odin Force</th>\n",
       "      <th>Phoenix Force</th>\n",
       "      <th>Intuitive aptitude</th>\n",
       "      <th>Melting</th>\n",
       "      <th>Changing Armor</th>\n",
       "    </tr>\n",
       "  </thead>\n",
       "  <tbody>\n",
       "    <tr>\n",
       "      <th>0</th>\n",
       "      <td>3-D Man</td>\n",
       "      <td>Agility,Super Strength,Stamina,Super Speed</td>\n",
       "      <td>True</td>\n",
       "      <td>True</td>\n",
       "      <td>True</td>\n",
       "      <td>True</td>\n",
       "      <td>False</td>\n",
       "      <td>False</td>\n",
       "      <td>False</td>\n",
       "      <td>False</td>\n",
       "      <td>...</td>\n",
       "      <td>False</td>\n",
       "      <td>False</td>\n",
       "      <td>False</td>\n",
       "      <td>False</td>\n",
       "      <td>False</td>\n",
       "      <td>False</td>\n",
       "      <td>False</td>\n",
       "      <td>False</td>\n",
       "      <td>False</td>\n",
       "      <td>False</td>\n",
       "    </tr>\n",
       "    <tr>\n",
       "      <th>1</th>\n",
       "      <td>A-Bomb</td>\n",
       "      <td>Accelerated Healing,Durability,Longevity,Super...</td>\n",
       "      <td>False</td>\n",
       "      <td>True</td>\n",
       "      <td>True</td>\n",
       "      <td>False</td>\n",
       "      <td>True</td>\n",
       "      <td>True</td>\n",
       "      <td>True</td>\n",
       "      <td>True</td>\n",
       "      <td>...</td>\n",
       "      <td>False</td>\n",
       "      <td>False</td>\n",
       "      <td>False</td>\n",
       "      <td>False</td>\n",
       "      <td>False</td>\n",
       "      <td>False</td>\n",
       "      <td>False</td>\n",
       "      <td>False</td>\n",
       "      <td>False</td>\n",
       "      <td>False</td>\n",
       "    </tr>\n",
       "    <tr>\n",
       "      <th>2</th>\n",
       "      <td>Abe Sapien</td>\n",
       "      <td>Agility,Accelerated Healing,Cold Resistance,Du...</td>\n",
       "      <td>True</td>\n",
       "      <td>True</td>\n",
       "      <td>True</td>\n",
       "      <td>False</td>\n",
       "      <td>True</td>\n",
       "      <td>True</td>\n",
       "      <td>True</td>\n",
       "      <td>False</td>\n",
       "      <td>...</td>\n",
       "      <td>False</td>\n",
       "      <td>False</td>\n",
       "      <td>False</td>\n",
       "      <td>False</td>\n",
       "      <td>False</td>\n",
       "      <td>False</td>\n",
       "      <td>False</td>\n",
       "      <td>False</td>\n",
       "      <td>False</td>\n",
       "      <td>False</td>\n",
       "    </tr>\n",
       "    <tr>\n",
       "      <th>3</th>\n",
       "      <td>Abin Sur</td>\n",
       "      <td>Lantern Power Ring</td>\n",
       "      <td>False</td>\n",
       "      <td>False</td>\n",
       "      <td>False</td>\n",
       "      <td>False</td>\n",
       "      <td>False</td>\n",
       "      <td>False</td>\n",
       "      <td>False</td>\n",
       "      <td>False</td>\n",
       "      <td>...</td>\n",
       "      <td>False</td>\n",
       "      <td>False</td>\n",
       "      <td>False</td>\n",
       "      <td>False</td>\n",
       "      <td>False</td>\n",
       "      <td>False</td>\n",
       "      <td>False</td>\n",
       "      <td>False</td>\n",
       "      <td>False</td>\n",
       "      <td>False</td>\n",
       "    </tr>\n",
       "    <tr>\n",
       "      <th>4</th>\n",
       "      <td>Abomination</td>\n",
       "      <td>Accelerated Healing,Intelligence,Super Strengt...</td>\n",
       "      <td>False</td>\n",
       "      <td>True</td>\n",
       "      <td>True</td>\n",
       "      <td>True</td>\n",
       "      <td>True</td>\n",
       "      <td>False</td>\n",
       "      <td>False</td>\n",
       "      <td>False</td>\n",
       "      <td>...</td>\n",
       "      <td>False</td>\n",
       "      <td>False</td>\n",
       "      <td>False</td>\n",
       "      <td>False</td>\n",
       "      <td>False</td>\n",
       "      <td>False</td>\n",
       "      <td>False</td>\n",
       "      <td>False</td>\n",
       "      <td>False</td>\n",
       "      <td>False</td>\n",
       "    </tr>\n",
       "  </tbody>\n",
       "</table>\n",
       "<p>5 rows × 169 columns</p>\n",
       "</div>"
      ],
      "text/plain": [
       "    hero_names                                             Powers  Agility  \\\n",
       "0      3-D Man         Agility,Super Strength,Stamina,Super Speed     True   \n",
       "1       A-Bomb  Accelerated Healing,Durability,Longevity,Super...    False   \n",
       "2   Abe Sapien  Agility,Accelerated Healing,Cold Resistance,Du...     True   \n",
       "3     Abin Sur                                 Lantern Power Ring    False   \n",
       "4  Abomination  Accelerated Healing,Intelligence,Super Strengt...    False   \n",
       "\n",
       "   Super Strength  Stamina  Super Speed  Accelerated Healing  Durability  \\\n",
       "0            True     True         True                False       False   \n",
       "1            True     True        False                 True        True   \n",
       "2            True     True        False                 True        True   \n",
       "3           False    False        False                False       False   \n",
       "4            True     True         True                 True       False   \n",
       "\n",
       "   Longevity  Camouflage  ...  Weather Control  Omnipresent  Omniscient  \\\n",
       "0      False       False  ...            False        False       False   \n",
       "1       True        True  ...            False        False       False   \n",
       "2       True       False  ...            False        False       False   \n",
       "3      False       False  ...            False        False       False   \n",
       "4      False       False  ...            False        False       False   \n",
       "\n",
       "   Hair Manipulation  Nova Force  Odin Force  Phoenix Force  \\\n",
       "0              False       False       False          False   \n",
       "1              False       False       False          False   \n",
       "2              False       False       False          False   \n",
       "3              False       False       False          False   \n",
       "4              False       False       False          False   \n",
       "\n",
       "   Intuitive aptitude  Melting  Changing Armor  \n",
       "0               False    False           False  \n",
       "1               False    False           False  \n",
       "2               False    False           False  \n",
       "3               False    False           False  \n",
       "4               False    False           False  \n",
       "\n",
       "[5 rows x 169 columns]"
      ]
     },
     "execution_count": 70,
     "metadata": {},
     "output_type": "execute_result"
    }
   ],
   "source": [
    "for col in cols_to_make:\n",
    "    Right[col] = Right['Powers'].str.contains(col)\n",
    "Right.head()"
   ]
  }
 ],
 "metadata": {
  "interpreter": {
   "hash": "6ebf1a1aa7d4c1bdcf5061ce4881f2fde13064ab71248d815ef2ac7713dd7565"
  },
  "kernelspec": {
   "display_name": "Python 3.7.12 ('dojo-env')",
   "language": "python",
   "name": "python3"
  },
  "language_info": {
   "codemirror_mode": {
    "name": "ipython",
    "version": 3
   },
   "file_extension": ".py",
   "mimetype": "text/x-python",
   "name": "python",
   "nbconvert_exporter": "python",
   "pygments_lexer": "ipython3",
   "version": "3.7.12"
  },
  "orig_nbformat": 4
 },
 "nbformat": 4,
 "nbformat_minor": 2
}
